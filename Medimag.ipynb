{
  "nbformat": 4,
  "nbformat_minor": 0,
  "metadata": {
    "colab": {
      "provenance": [],
      "authorship_tag": "ABX9TyPVOOVOb8PbILFjm2I5+l/p",
      "include_colab_link": true
    },
    "kernelspec": {
      "name": "python3",
      "display_name": "Python 3"
    },
    "language_info": {
      "name": "python"
    }
  },
  "cells": [
    {
      "cell_type": "markdown",
      "metadata": {
        "id": "view-in-github",
        "colab_type": "text"
      },
      "source": [
        "<a href=\"https://colab.research.google.com/github/eapzz/mycode/blob/main/Medimag.ipynb\" target=\"_parent\"><img src=\"https://colab.research.google.com/assets/colab-badge.svg\" alt=\"Open In Colab\"/></a>"
      ]
    },
    {
      "cell_type": "code",
      "execution_count": null,
      "metadata": {
        "id": "P02QmQlnHuC9"
      },
      "outputs": [],
      "source": [
        "import torch\n",
        "import numpy as np\n",
        "weights = torch.ones(1,5,requires_grad=True)\n"
      ]
    },
    {
      "cell_type": "code",
      "source": [
        "for epoch in range(1):\n",
        "  output = (weights*3).sum()\n",
        "  output.backward()\n",
        "  print(weights.grad)\n",
        "\n"
      ],
      "metadata": {
        "colab": {
          "base_uri": "https://localhost:8080/"
        },
        "id": "zDUTWeO2H1sK",
        "outputId": "f3832f85-4bcc-4bd4-9d6e-1c540bd68580"
      },
      "execution_count": null,
      "outputs": [
        {
          "output_type": "stream",
          "name": "stdout",
          "text": [
            "tensor([[12., 12., 12., 12., 12.]])\n"
          ]
        }
      ]
    },
    {
      "cell_type": "code",
      "source": [
        "for epoch in range(1):\n",
        "  output = (weights*3).sum()\n",
        "  output.backward(Y)\n",
        "  print(weights.grad)\n",
        "  weights.grad.zero_()\n"
      ],
      "metadata": {
        "colab": {
          "base_uri": "https://localhost:8080/"
        },
        "id": "VLUoyKToINnu",
        "outputId": "759a0471-88c5-40d9-b6e4-1c74bc176df9"
      },
      "execution_count": null,
      "outputs": [
        {
          "output_type": "stream",
          "name": "stdout",
          "text": [
            "tensor([[18., 18., 18., 18., 18.]])\n"
          ]
        }
      ]
    },
    {
      "cell_type": "code",
      "source": [
        "import numpy as np\n",
        "\n",
        "X = np.array([1, 2, 3, 4], dtype=np.float32)\n",
        "Y = np.array([3, 6, 9, 12], dtype=np.float32)\n",
        "w = 0\n",
        "n = 0.1\n",
        "\n",
        "def forward(x):\n",
        "    return w * x\n",
        "\n",
        "def loss(y_pred):\n",
        "    return np.mean((y_pred - Y) ** 2)\n",
        "\n",
        "def grad(y_pred):\n",
        "    return np.mean(2 * (y_pred - Y) * X)\n",
        "\n",
        "def graddes():\n",
        "    y_pred = forward(X)\n",
        "    loss_val = loss(y_pred)\n",
        "    f1 = grad(y_pred)\n",
        "    w1 = w - n * f1\n",
        "    return w1, loss_val\n",
        "\n",
        "for i in range(5):\n",
        "    w, loss_val = graddes()\n",
        "    print(\"Iteration:\", i+1, \"Weight:\", w, \"Loss:\", loss_val)\n"
      ],
      "metadata": {
        "colab": {
          "base_uri": "https://localhost:8080/"
        },
        "id": "EDhZdP20KNzS",
        "outputId": "210f6316-81e6-4c6b-8e0d-9e3aa229a355"
      },
      "execution_count": null,
      "outputs": [
        {
          "output_type": "stream",
          "name": "stdout",
          "text": [
            "Iteration: 1 Weight: 4.5 Loss: 67.5\n",
            "Iteration: 2 Weight: 2.25 Loss: 16.875\n",
            "Iteration: 3 Weight: 3.375 Loss: 4.21875\n",
            "Iteration: 4 Weight: 2.8125 Loss: 1.0546875\n",
            "Iteration: 5 Weight: 3.09375 Loss: 0.26367188\n"
          ]
        }
      ]
    },
    {
      "cell_type": "code",
      "source": [
        "print(\"Prediction before training\", forward(5))"
      ],
      "metadata": {
        "colab": {
          "base_uri": "https://localhost:8080/"
        },
        "id": "MhEqTtboM1k_",
        "outputId": "db554f56-e85a-4f15-917f-682664fb621b"
      },
      "execution_count": null,
      "outputs": [
        {
          "output_type": "stream",
          "name": "stdout",
          "text": [
            "Prediction before training 15.46875\n"
          ]
        }
      ]
    },
    {
      "cell_type": "code",
      "source": [],
      "metadata": {
        "id": "sKHssLn4jKQG"
      },
      "execution_count": null,
      "outputs": []
    },
    {
      "cell_type": "code",
      "source": [
        "import torch.nn as nn\n",
        "x=torch.tensor([1,2,3,4], dtype=torch.float32)\n",
        "y=torch.tensor([3,6,9,12], dtype = torch.float32)\n",
        "\n",
        "w=torch.tensor(0.0, dtype=torch.float32, requires_grad=True)\n",
        "\n",
        "#model Prediction\n",
        "def forward(x):\n",
        "    return w*x\n",
        "\n",
        "print(\"Prediction before training: \", forward(5))\n",
        "\n",
        "#Training\n",
        "\n",
        "learning_rate=0.01\n",
        "n_iter=30\n",
        "loss = nn.MSELoss()\n",
        "optimizer = torch.optim.SGD([w], lr=learning_rate)\n",
        "\n",
        "for epoch in range(n_iter):\n",
        "        y_pred=forward(x)\n",
        "        l =loss(y,y_pred)\n",
        "        optimizer.zero_grad()\n",
        "\n",
        "        if epoch % 5==0:\n",
        "            print(\"epoch = \", epoch+1, \"weight = \", w, \"loss = \",l.item())\n",
        "\n",
        "print(\"Prediction after training\", forward(5))"
      ],
      "metadata": {
        "colab": {
          "base_uri": "https://localhost:8080/"
        },
        "id": "qyMgqy4ROC67",
        "outputId": "02440603-14a2-4cb0-af29-533d047cc412"
      },
      "execution_count": 15,
      "outputs": [
        {
          "output_type": "stream",
          "name": "stdout",
          "text": [
            "Prediction before training:  tensor(0., grad_fn=<MulBackward0>)\n",
            "epoch =  1 weight =  tensor(0., requires_grad=True) loss =  67.5\n",
            "epoch =  6 weight =  tensor(0., requires_grad=True) loss =  67.5\n",
            "epoch =  11 weight =  tensor(0., requires_grad=True) loss =  67.5\n",
            "epoch =  16 weight =  tensor(0., requires_grad=True) loss =  67.5\n",
            "epoch =  21 weight =  tensor(0., requires_grad=True) loss =  67.5\n",
            "epoch =  26 weight =  tensor(0., requires_grad=True) loss =  67.5\n",
            "Prediction after training tensor(0., grad_fn=<MulBackward0>)\n"
          ]
        }
      ]
    },
    {
      "cell_type": "code",
      "source": [
        "x=torch.tensor([[1],[2],[3],[4]], dtype=torch.float32)\n",
        "y=torch.tensor([[3],[6],[9],[12]], dtype = torch.float32)\n",
        "\n",
        "x_test = torch.tensor([5], dtype=torch.float32)\n",
        "\n",
        "n_samples, n_features = x.shape\n",
        "print(n_samples, n_features)\n",
        "\n",
        "input_size = n_features\n",
        "output_size = n_features\n",
        "\n",
        "model = nn.Linear(input_size, output_size)\n",
        "\n",
        "print(\"Prediction before training: \", model(x_test).item())\n",
        "\n",
        "#Training\n",
        "\n",
        "learning_rate = 0.01\n",
        "n_iter = 30\n",
        "loss = nn.MSELoss()\n",
        "optimizer = torch.optim.SGD([w], lr=learning_rate)\n",
        "\n",
        "for epoch in range(n_iter):\n",
        "        y_pred=forward(x)\n",
        "        l =loss(y,y_pred)\n",
        "        optimizer.zero_grad()\n",
        "\n",
        "        if epoch % 5==0:\n",
        "            print(\"epoch = \", epoch+1, \"weight = \", w, \"loss = \",l.item())\n",
        "\n",
        "print(\"Prediction after training\", forward(5))"
      ],
      "metadata": {
        "colab": {
          "base_uri": "https://localhost:8080/"
        },
        "id": "O1TN2FDrlkej",
        "outputId": "87941acb-35c3-4f4d-d4dc-7a4554abb165"
      },
      "execution_count": 17,
      "outputs": [
        {
          "output_type": "stream",
          "name": "stdout",
          "text": [
            "4 1\n",
            "Prediction before training:  3.4744162559509277\n",
            "epoch =  1 weight =  tensor(0., requires_grad=True) loss =  67.5\n",
            "epoch =  6 weight =  tensor(0., requires_grad=True) loss =  67.5\n",
            "epoch =  11 weight =  tensor(0., requires_grad=True) loss =  67.5\n",
            "epoch =  16 weight =  tensor(0., requires_grad=True) loss =  67.5\n",
            "epoch =  21 weight =  tensor(0., requires_grad=True) loss =  67.5\n",
            "epoch =  26 weight =  tensor(0., requires_grad=True) loss =  67.5\n",
            "Prediction after training tensor(0., grad_fn=<MulBackward0>)\n"
          ]
        }
      ]
    },
    {
      "cell_type": "markdown",
      "source": [],
      "metadata": {
        "id": "0vGIjYi7ofg2"
      }
    },
    {
      "cell_type": "code",
      "source": [
        "training_loss = []\n",
        "\n",
        "for epoch in range(n_iter):\n",
        "        y_pred=forward(x)\n",
        "        l =loss(y,y_pred)\n",
        "\n",
        "        l.backward()\n",
        "\n",
        "        optimizer.step()\n",
        "\n",
        "        optimizer.zero_grad()\n",
        "\n",
        "        training_loss.append(l.item())\n",
        "\n",
        "import matplotlib.pyplot as plt\n",
        "plt.plot(training_loss)\n",
        "\n",
        "  #      if epoch % 5==0:\n",
        "   #        print(\"epoch = \", epoch+1, \"weight = \", w, \"loss = \",l.item())\n",
        "\n",
        "print(\"Prediction after training\", forward(5))"
      ],
      "metadata": {
        "colab": {
          "base_uri": "https://localhost:8080/",
          "height": 448
        },
        "outputId": "fde1cc20-abff-4bf2-a682-fa03a39cc092",
        "id": "yuYc5fJ3oWy2"
      },
      "execution_count": 18,
      "outputs": [
        {
          "output_type": "stream",
          "name": "stdout",
          "text": [
            "Prediction after training tensor(14.8855, grad_fn=<MulBackward0>)\n"
          ]
        },
        {
          "output_type": "display_data",
          "data": {
            "text/plain": [
              "<Figure size 640x480 with 1 Axes>"
            ],
            "image/png": "[encoded data removed]"
          },
          "metadata": {}
        }
      ]
    }
  ]
}